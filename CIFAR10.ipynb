{
  "nbformat": 4,
  "nbformat_minor": 0,
  "metadata": {
    "colab": {
      "name": "CIFAR10.ipynb",
      "provenance": [],
      "collapsed_sections": [],
      "authorship_tag": "ABX9TyNFXzKNBQ9a+5MNK2rU4zDW",
      "include_colab_link": true
    },
    "kernelspec": {
      "name": "python3",
      "display_name": "Python 3"
    }
  },
  "cells": [
    {
      "cell_type": "markdown",
      "metadata": {
        "id": "view-in-github",
        "colab_type": "text"
      },
      "source": [
        "<a href=\"https://colab.research.google.com/github/kumaradityaka/Machine-learning/blob/master/CIFAR10.ipynb\" target=\"_parent\"><img src=\"https://colab.research.google.com/assets/colab-badge.svg\" alt=\"Open In Colab\"/></a>"
      ]
    },
    {
      "cell_type": "code",
      "metadata": {
        "id": "dPvV3Ql3xW_C"
      },
      "source": [
        "import tensorflow as tf\r\n",
        "from tensorflow.keras import datasets, layers, models\r\n",
        "import matplotlib.pyplot as plt\r\n",
        "import numpy as np\r\n",
        "import pandas as pd\r\n"
      ],
      "execution_count": null,
      "outputs": []
    },
    {
      "cell_type": "code",
      "metadata": {
        "id": "hLZXXDiml04F"
      },
      "source": [
        "tf.config.experimental.list_physical_devices()"
      ],
      "execution_count": null,
      "outputs": []
    },
    {
      "cell_type": "code",
      "metadata": {
        "id": "GGCg_PBu-0Kz"
      },
      "source": [
        "(X_train,y_train), (X_test,y_test) = keras.datasets.cifar10.load_data()"
      ],
      "execution_count": null,
      "outputs": []
    },
    {
      "cell_type": "code",
      "metadata": {
        "colab": {
          "base_uri": "https://localhost:8080/"
        },
        "id": "Bp7n7u9qDrHA",
        "outputId": "3259d0e8-76eb-4881-be0c-c35b0f27a898"
      },
      "source": [
        "X_train.shape"
      ],
      "execution_count": null,
      "outputs": [
        {
          "output_type": "execute_result",
          "data": {
            "text/plain": [
              "(50000, 32, 32, 3)"
            ]
          },
          "metadata": {
            "tags": []
          },
          "execution_count": 4
        }
      ]
    },
    {
      "cell_type": "code",
      "metadata": {
        "colab": {
          "base_uri": "https://localhost:8080/"
        },
        "id": "Wc3wal17_o5j",
        "outputId": "336ae9bc-2430-45b4-b5f4-7eb4bc768825"
      },
      "source": [
        "index = 5\r\n",
        "plt.imshow(X_train[index])"
      ],
      "execution_count": null,
      "outputs": [
        {
          "output_type": "execute_result",
          "data": {
            "text/plain": [
              "<matplotlib.image.AxesImage at 0x7fbdf1f41c88>"
            ]
          },
          "metadata": {
            "tags": []
          },
          "execution_count": 5
        },
        {
          "output_type": "display_data",
          "data": {
            "image/png": "[encoded data removed]",
            "text/plain": [
              "<Figure size 432x288 with 1 Axes>"
            ]
          },
          "metadata": {
            "tags": [],
            "needs_background": "light"
          }
        }
      ]
    },
    {
      "cell_type": "code",
      "metadata": {
        "colab": {
          "base_uri": "https://localhost:8080/"
        },
        "id": "0P9VuECNKJmV",
        "outputId": "4e0e688e-2bc9-45d5-de31-731a82e1df7c"
      },
      "source": [
        "X_train.shape"
      ],
      "execution_count": null,
      "outputs": [
        {
          "output_type": "execute_result",
          "data": {
            "text/plain": [
              "(50000, 32, 32, 3)"
            ]
          },
          "metadata": {
            "tags": []
          },
          "execution_count": 6
        }
      ]
    },
    {
      "cell_type": "code",
      "metadata": {
        "id": "9O2xlbPzK7U0",
        "colab": {
          "base_uri": "https://localhost:8080/"
        },
        "outputId": "a80a1080-5ccc-447f-9e35-49a5483abf1e"
      },
      "source": [
        "#X_train_flatten = X_train.reshape(X_train.shape[0],-1).T\r\n",
        "#y_train_flatten = y_train.reshape(y_train.shape[0],-1).T\r\n",
        "#X_test_flatten = X_test.reshape(X_test.shape[0],-1).T\r\n",
        "#y_test_flatten = y_test.reshape(y_test.shape[0],-1).T\r\n",
        "y_train.shape"
      ],
      "execution_count": null,
      "outputs": [
        {
          "output_type": "execute_result",
          "data": {
            "text/plain": [
              "(50000, 1)"
            ]
          },
          "metadata": {
            "tags": []
          },
          "execution_count": 7
        }
      ]
    },
    {
      "cell_type": "code",
      "metadata": {
        "id": "YT9AKZY8MpgS"
      },
      "source": [
        "X_train_final = X_train/255\r\n",
        "#y_train_final = y_train_flatten/255\r\n",
        "X_test_final = X_test/255\r\n",
        "#y_test_final = y_test_flatten/255"
      ],
      "execution_count": null,
      "outputs": []
    },
    {
      "cell_type": "code",
      "metadata": {
        "id": "uRRN3XA-ZUqq"
      },
      "source": [
        "def relu(z):\r\n",
        "  \r\n",
        "  return max(0,z)"
      ],
      "execution_count": null,
      "outputs": []
    },
    {
      "cell_type": "code",
      "metadata": {
        "id": "MMeBjwzLcRwQ",
        "colab": {
          "base_uri": "https://localhost:8080/"
        },
        "outputId": "312fffdb-1357-4a50-ac08-701145ef38b4"
      },
      "source": [
        "y_train_categorical = keras.utils.to_categorical(\r\n",
        "    y_train, num_classes=10, dtype='float32'\r\n",
        ")\r\n",
        "y_test_categorical = keras.utils.to_categorical(\r\n",
        "    y_test, num_classes=10, dtype='float32'\r\n",
        ")\r\n",
        "y_train[0:5]"
      ],
      "execution_count": null,
      "outputs": [
        {
          "output_type": "execute_result",
          "data": {
            "text/plain": [
              "array([[6],\n",
              "       [9],\n",
              "       [9],\n",
              "       [4],\n",
              "       [1]], dtype=uint8)"
            ]
          },
          "metadata": {
            "tags": []
          },
          "execution_count": 16
        }
      ]
    },
    {
      "cell_type": "code",
      "metadata": {
        "colab": {
          "base_uri": "https://localhost:8080/"
        },
        "id": "AH82t8NdkORH",
        "outputId": "eee3058e-f717-4f54-d688-df116ba318a1"
      },
      "source": [
        "model = keras.Sequential([\r\n",
        "        keras.layers.Flatten(input_shape=(32,32,3)),\r\n",
        "        keras.layers.Dense(3000, activation='relu'),\r\n",
        "        keras.layers.Dense(1000, activation='relu'),\r\n",
        "        keras.layers.Dense(10, activation='sigmoid')    \r\n",
        "    ])\r\n",
        "\r\n",
        "model.compile(optimizer='SGD',\r\n",
        "              loss='categorical_crossentropy',\r\n",
        "              metrics=['accuracy'])\r\n",
        "\r\n",
        "model.fit(X_train_final, y_train_categorical, epochs=1)"
      ],
      "execution_count": null,
      "outputs": [
        {
          "output_type": "stream",
          "text": [
            "1563/1563 [==============================] - 72s 46ms/step - loss: 1.9298 - accuracy: 0.3056\n"
          ],
          "name": "stdout"
        },
        {
          "output_type": "execute_result",
          "data": {
            "text/plain": [
              "<tensorflow.python.keras.callbacks.History at 0x7fbdf1f16550>"
            ]
          },
          "metadata": {
            "tags": []
          },
          "execution_count": 11
        }
      ]
    },
    {
      "cell_type": "code",
      "metadata": {
        "id": "-Mur-hwvmApK"
      },
      "source": [
        "def get_model():\r\n",
        "    model = keras.Sequential([\r\n",
        "            keras.layers.Flatten(input_shape=(32,32,3)),\r\n",
        "            keras.layers.Dense(3000, activation='relu'),\r\n",
        "            keras.layers.Dense(1000, activation='relu'),\r\n",
        "            keras.layers.Dense(10, activation='sigmoid')    \r\n",
        "        ])\r\n",
        "\r\n",
        "    model.compile(optimizer='SGD',\r\n",
        "                  loss='categorical_crossentropy',\r\n",
        "                  metrics=['accuracy'])\r\n",
        "    return model"
      ],
      "execution_count": null,
      "outputs": []
    },
    {
      "cell_type": "code",
      "metadata": {
        "id": "s2SHS9H2nPVn"
      },
      "source": [
        "prediction = model.predict(X_test_final)"
      ],
      "execution_count": null,
      "outputs": []
    },
    {
      "cell_type": "code",
      "metadata": {
        "colab": {
          "base_uri": "https://localhost:8080/"
        },
        "id": "u4R0M1g-l7oq",
        "outputId": "2650048d-7d13-4e96-b55a-819a19b7db1b"
      },
      "source": [
        "%%timeit -n1 -r1 \r\n",
        "with tf.device('/CPU:0'):\r\n",
        "    cpu_model = get_model()\r\n",
        "    cpu_model.fit(X_train_final, y_train_categorical, epochs=1)"
      ],
      "execution_count": null,
      "outputs": [
        {
          "output_type": "stream",
          "text": [
            "1563/1563 [==============================] - 72s 46ms/step - loss: 1.9324 - accuracy: 0.3023\n",
            "1 loop, best of 1: 1min 12s per loop\n"
          ],
          "name": "stdout"
        }
      ]
    },
    {
      "cell_type": "code",
      "metadata": {
        "colab": {
          "base_uri": "https://localhost:8080/"
        },
        "id": "uCYflquPvQcB",
        "outputId": "eb690890-4022-41fa-aa8a-f3b8feed3d34"
      },
      "source": [
        "np.argmax(prediction[9])"
      ],
      "execution_count": null,
      "outputs": [
        {
          "output_type": "execute_result",
          "data": {
            "text/plain": [
              "1"
            ]
          },
          "metadata": {
            "tags": []
          },
          "execution_count": 25
        }
      ]
    },
    {
      "cell_type": "code",
      "metadata": {
        "colab": {
          "base_uri": "https://localhost:8080/"
        },
        "id": "yh4M3nMqxXXa",
        "outputId": "97c2a48e-3431-49b8-aa3e-1e0992c0e20d"
      },
      "source": [
        "y_test[9]"
      ],
      "execution_count": null,
      "outputs": [
        {
          "output_type": "execute_result",
          "data": {
            "text/plain": [
              "array([1], dtype=uint8)"
            ]
          },
          "metadata": {
            "tags": []
          },
          "execution_count": 26
        }
      ]
    },
    {
      "cell_type": "markdown",
      "metadata": {
        "id": "TmvQY8XKEmiQ"
      },
      "source": [
        "# CNN Implementation"
      ]
    },
    {
      "cell_type": "code",
      "metadata": {
        "id": "FFaTu_zwE1nn"
      },
      "source": [
        "cnn = models.Sequential([\r\n",
        "    layers.Conv2D(filters=32, kernel_size=(3, 3), activation='relu', input_shape=(32, 32, 3)),\r\n",
        "    layers.MaxPooling2D((2, 2)),\r\n",
        "    \r\n",
        "    layers.Conv2D(filters=64, kernel_size=(3, 3), activation='relu'),\r\n",
        "    layers.MaxPooling2D((2, 2)),\r\n",
        "    \r\n",
        "    layers.Flatten(),\r\n",
        "    layers.Dense(64, activation='relu'),\r\n",
        "    layers.Dense(10, activation='softmax')\r\n",
        "])"
      ],
      "execution_count": null,
      "outputs": []
    },
    {
      "cell_type": "code",
      "metadata": {
        "colab": {
          "base_uri": "https://localhost:8080/"
        },
        "id": "pFqZIcRDOB8B",
        "outputId": "1545ef92-89b6-4532-e66f-749db031c947"
      },
      "source": [
        "cnn.summary()"
      ],
      "execution_count": null,
      "outputs": [
        {
          "output_type": "stream",
          "text": [
            "Model: \"sequential_1\"\n",
            "_________________________________________________________________\n",
            "Layer (type)                 Output Shape              Param #   \n",
            "=================================================================\n",
            "conv2d (Conv2D)              (None, 30, 30, 32)        896       \n",
            "_________________________________________________________________\n",
            "max_pooling2d (MaxPooling2D) (None, 15, 15, 32)        0         \n",
            "_________________________________________________________________\n",
            "conv2d_1 (Conv2D)            (None, 13, 13, 64)        18496     \n",
            "_________________________________________________________________\n",
            "max_pooling2d_1 (MaxPooling2 (None, 6, 6, 64)          0         \n",
            "_________________________________________________________________\n",
            "conv2d_2 (Conv2D)            (None, 4, 4, 64)          36928     \n",
            "=================================================================\n",
            "Total params: 56,320\n",
            "Trainable params: 56,320\n",
            "Non-trainable params: 0\n",
            "_________________________________________________________________\n"
          ],
          "name": "stdout"
        }
      ]
    },
    {
      "cell_type": "code",
      "metadata": {
        "id": "PwIAyCpkObwP"
      },
      "source": [
        "cnn.compile(optimizer='adam',\r\n",
        "              loss='sparse_categorical_crossentropy',\r\n",
        "              metrics=['accuracy'])"
      ],
      "execution_count": null,
      "outputs": []
    },
    {
      "cell_type": "code",
      "metadata": {
        "colab": {
          "base_uri": "https://localhost:8080/"
        },
        "id": "2sbSi2lqOm6P",
        "outputId": "28b147cb-23e7-4a24-e85b-6c5af4d8ac1d"
      },
      "source": [
        "cnn.fit(X_train, y_train, epochs=10)\r\n"
      ],
      "execution_count": null,
      "outputs": [
        {
          "output_type": "stream",
          "text": [
            "Epoch 1/10\n",
            "1563/1563 [==============================] - 57s 36ms/step - loss: 3.2933 - accuracy: 0.2945\n",
            "Epoch 2/10\n",
            "1563/1563 [==============================] - 57s 36ms/step - loss: 1.3525 - accuracy: 0.5197\n",
            "Epoch 3/10\n",
            "1563/1563 [==============================] - 57s 36ms/step - loss: 1.1631 - accuracy: 0.5923\n",
            "Epoch 4/10\n",
            "1563/1563 [==============================] - 56s 36ms/step - loss: 1.0229 - accuracy: 0.6470\n",
            "Epoch 5/10\n",
            "1563/1563 [==============================] - 57s 37ms/step - loss: 0.9365 - accuracy: 0.6783\n",
            "Epoch 6/10\n",
            "1563/1563 [==============================] - 57s 36ms/step - loss: 0.8721 - accuracy: 0.6983\n",
            "Epoch 7/10\n",
            "1563/1563 [==============================] - 57s 36ms/step - loss: 0.7981 - accuracy: 0.7231\n",
            "Epoch 8/10\n",
            "1563/1563 [==============================] - 58s 37ms/step - loss: 0.7493 - accuracy: 0.7417\n",
            "Epoch 9/10\n",
            "1563/1563 [==============================] - 58s 37ms/step - loss: 0.6969 - accuracy: 0.7558\n",
            "Epoch 10/10\n",
            "1563/1563 [==============================] - 58s 37ms/step - loss: 0.6580 - accuracy: 0.7745\n"
          ],
          "name": "stdout"
        },
        {
          "output_type": "execute_result",
          "data": {
            "text/plain": [
              "<tensorflow.python.keras.callbacks.History at 0x7fbfb8c36208>"
            ]
          },
          "metadata": {
            "tags": []
          },
          "execution_count": 25
        }
      ]
    }
  ]
}